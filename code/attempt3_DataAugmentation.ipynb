{
  "cells": [
    {
      "cell_type": "markdown",
      "metadata": {
        "id": "3qAEaguKo58v"
      },
      "source": []
    },
    {
      "cell_type": "code",
      "execution_count": 2,
      "metadata": {
        "id": "6594B2sJeuUq",
        "colab": {
          "base_uri": "https://localhost:8080/"
        },
        "outputId": "fe48348c-9d84-428e-ad08-ee9c0cba773c"
      },
      "outputs": [
        {
          "output_type": "stream",
          "name": "stdout",
          "text": [
            "Looking in indexes: https://pypi.org/simple, https://us-python.pkg.dev/colab-wheels/public/simple/\n",
            "Collecting ttach\n",
            "  Downloading ttach-0.0.3-py3-none-any.whl (9.8 kB)\n",
            "Installing collected packages: ttach\n",
            "Successfully installed ttach-0.0.3\n"
          ]
        }
      ],
      "source": [
        "!pip install ttach"
      ]
    },
    {
      "cell_type": "code",
      "execution_count": 3,
      "metadata": {
        "id": "9LtJp2-Nerx3"
      },
      "outputs": [],
      "source": [
        "#import albumentations as albu\n",
        "#from albumentations.pytorch import ToTensorV2"
      ]
    },
    {
      "cell_type": "code",
      "execution_count": 4,
      "metadata": {
        "id": "JQBOzIkQ9GDO"
      },
      "outputs": [],
      "source": [
        "#Device check and load model into device\n",
        "def get_default_device():\n",
        "    \"\"\"Pick GPU if available, else CPU\"\"\"\n",
        "    if torch.cuda.is_available():\n",
        "        return torch.device('cuda')\n",
        "    else:\n",
        "        return torch.device('cpu')\n",
        "    \n",
        "def to_device(data, device):\n",
        "    \"\"\"Move tensor(s) to chosen device\"\"\"\n",
        "    if isinstance(data, (list,tuple)):\n",
        "        return [to_device(x, device) for x in data]\n",
        "    return data.to(device, non_blocking=True)\n",
        "\n",
        "class DeviceDataLoader():\n",
        "    \"\"\"Wrap a dataloader to move data to a device\"\"\"\n",
        "    def __init__(self, dl, device):\n",
        "        self.dl = dl\n",
        "        self.device = device\n",
        "        \n",
        "    def __iter__(self):\n",
        "        \"\"\"Yield a batch of data after moving it to device\"\"\"\n",
        "        for b in self.dl: \n",
        "            yield to_device(b, self.device)\n",
        "\n",
        "    def __len__(self):\n",
        "        \"\"\"Number of batches\"\"\"\n",
        "        return len(self.dl)"
      ]
    },
    {
      "cell_type": "code",
      "execution_count": 5,
      "metadata": {
        "colab": {
          "base_uri": "https://localhost:8080/"
        },
        "id": "RbDxHuMdBJDv",
        "outputId": "5f896dd7-e22e-4a24-a95c-f087b6aa4fa7"
      },
      "outputs": [
        {
          "output_type": "stream",
          "name": "stdout",
          "text": [
            "Looking in indexes: https://pypi.org/simple, https://us-python.pkg.dev/colab-wheels/public/simple/\n",
            "Collecting thop\n",
            "  Downloading thop-0.1.1.post2209072238-py3-none-any.whl (15 kB)\n",
            "Requirement already satisfied: torch in /usr/local/lib/python3.8/dist-packages (from thop) (1.13.0+cu116)\n",
            "Requirement already satisfied: typing-extensions in /usr/local/lib/python3.8/dist-packages (from torch->thop) (4.4.0)\n",
            "Installing collected packages: thop\n",
            "Successfully installed thop-0.1.1.post2209072238\n"
          ]
        }
      ],
      "source": [
        "#install thop for count PARAMS and Flops\n",
        "!pip install thop\n",
        "#!pip install webdataset"
      ]
    },
    {
      "cell_type": "code",
      "execution_count": null,
      "metadata": {
        "colab": {
          "base_uri": "https://localhost:8080/"
        },
        "id": "GaBrYJI0045N",
        "outputId": "6bdbdc6c-7f5a-4963-8886-a6ce3bec119e"
      },
      "outputs": [
        {
          "output_type": "stream",
          "name": "stdout",
          "text": [
            "Looking in indexes: https://pypi.tuna.tsinghua.edu.cn/simple, https://us-python.pkg.dev/colab-wheels/public/simple/\n"
          ]
        }
      ],
      "source": [
        "pip install transformers -i https://pypi.tuna.tsinghua.edu.cn/simple"
      ]
    },
    {
      "cell_type": "code",
      "execution_count": null,
      "metadata": {
        "id": "G6pjwsMSmzJb"
      },
      "outputs": [],
      "source": [
        "!pip install pytorch_toolbelt"
      ]
    },
    {
      "cell_type": "code",
      "execution_count": null,
      "metadata": {
        "id": "ncuo24ahwSgF"
      },
      "outputs": [],
      "source": [
        "!pip install utils"
      ]
    },
    {
      "cell_type": "markdown",
      "metadata": {
        "id": "WH9lfzBP1ijw"
      },
      "source": [
        "from __future__ import print_function\n",
        "\n",
        "import argparse\n",
        "import os\n",
        "import shutil\n",
        "import time\n",
        "import random\n",
        "\n",
        "import torch\n",
        "import torch.nn as nn\n",
        "import torch.nn.parallel\n",
        "import torch.backends.cudnn as cudnn\n",
        "import torch.optim as optim\n",
        "import torch.utils.data as data\n",
        "from torchvision import transforms\n",
        "import torchvision.datasets as datasets\n",
        "#import models.cifar as models\n",
        "import torchvision.models as models\n",
        "\n",
        "#from utils import Bar, Logger, AverageMeter, accuracy, mkdir_p, savefig\n",
        "#from utils import mkdir_p, savefig\n",
        "\n",
        "model_names = sorted(name for name in models.__dict__\n",
        "    if name.islower() and not name.startswith(\"__\")\n",
        "    and callable(models.__dict__[name]))\n",
        "\n",
        "parser = argparse.ArgumentParser(description='PyTorch CIFAR10 and 100 Training')\n",
        "# Datasets\n",
        "parser.add_argument('-d', '--dataset', default='cifar10', type=str)\n",
        "parser.add_argument('-j', '--workers', default=4, type=int, metavar='N',\n",
        "                    help='number of data loading workers (default: 4)')\n",
        "# Optimization options\n",
        "parser.add_argument('--epochs', default=300, type=int, metavar='N',\n",
        "                    help='number of total epochs to run')\n",
        "parser.add_argument('--start-epoch', default=0, type=int, metavar='N',\n",
        "                    help='manual epoch number (useful on restarts)')\n",
        "parser.add_argument('--train-batch', default=128, type=int, metavar='N',\n",
        "                    help='train batchsize')\n",
        "parser.add_argument('--test-batch', default=100, type=int, metavar='N',\n",
        "                    help='test batchsize')\n",
        "parser.add_argument('--lr', '--learning-rate', default=0.1, type=float,\n",
        "                    metavar='LR', help='initial learning rate')\n",
        "parser.add_argument('--drop', '--dropout', default=0, type=float,\n",
        "                    metavar='Dropout', help='Dropout ratio')\n",
        "parser.add_argument('--schedule', type=int, nargs='+', default=[150, 225],\n",
        "                        help='Decrease learning rate at these epochs.')\n",
        "parser.add_argument('--gamma', type=float, default=0.1, help='LR is multiplied by gamma on schedule.')\n",
        "parser.add_argument('--momentum', default=0.9, type=float, metavar='M',\n",
        "                    help='momentum')\n",
        "parser.add_argument('--weight-decay', '--wd', default=5e-4, type=float,\n",
        "                    metavar='W', help='weight decay (default: 1e-4)')\n",
        "# Checkpoints\n",
        "parser.add_argument('-c', '--checkpoint', default='checkpoint', type=str, metavar='PATH',\n",
        "                    help='path to save checkpoint (default: checkpoint)')\n",
        "parser.add_argument('--resume', default='', type=str, metavar='PATH',\n",
        "                    help='path to latest checkpoint (default: none)')\n",
        "# Architecture\n",
        "parser.add_argument('--arch', '-a', metavar='ARCH', default='resnet',\n",
        "                    choices=model_names,\n",
        "                    help='model architecture: ' +\n",
        "                        ' | '.join(model_names) +\n",
        "                        ' (default: resnet20)')\n",
        "parser.add_argument('--depth', type=int, default=20, help='Model depth.')\n",
        "parser.add_argument('--widen-factor', type=int, default=10, help='Widen factor. 10')\n",
        "parser.add_argument('--growthRate', type=int, default=12, help='Growth rate for DenseNet.')\n",
        "parser.add_argument('--compressionRate', type=int, default=2, help='Compression Rate (theta) for DenseNet.')\n",
        "# Miscs\n",
        "parser.add_argument('--manualSeed', type=int, help='manual seed')\n",
        "parser.add_argument('-e', '--evaluate', dest='evaluate', action='store_true',\n",
        "                    help='evaluate model on validation set')\n",
        "\n",
        "# Random Erasing\n",
        "parser.add_argument('--p', default=0, type=float, help='Random Erasing probability')\n",
        "parser.add_argument('--sh', default=0.4, type=float, help='max erasing area')\n",
        "parser.add_argument('--r1', default=0.3, type=float, help='aspect of erasing area')\n",
        "\n",
        "args = parser.parse_args()\n",
        "state = {k: v for k, v in args._get_kwargs()}\n",
        "# Validate dataset\n",
        "assert args.dataset == 'cifar10' or args.dataset == 'cifar100', 'Dataset can only be cifar10 or cifar100.'\n",
        "\n",
        "# Use CUDA\n",
        "use_cuda = torch.cuda.is_available()\n",
        "\n",
        "# Random seed\n",
        "if args.manualSeed is None:\n",
        "    args.manualSeed = random.randint(1, 10000)\n",
        "random.seed(args.manualSeed)\n",
        "torch.manual_seed(args.manualSeed)\n",
        "if use_cuda:\n",
        "    torch.cuda.manual_seed_all(args.manualSeed)\n",
        "\n",
        "best_acc = 0  # best test accuracy\n",
        "\n",
        "def main():\n",
        "    global best_acc\n",
        "    start_epoch = args.start_epoch  # start from epoch 0 or last checkpoint epoch\n",
        "\n",
        "    if not os.path.isdir(args.checkpoint):\n",
        "        mkdir_p(args.checkpoint)"
      ]
    },
    {
      "cell_type": "code",
      "execution_count": 9,
      "metadata": {
        "colab": {
          "base_uri": "https://localhost:8080/",
          "height": 109,
          "referenced_widgets": [
            "d0137071684b4db39c9b9c34d3486a43"
          ]
        },
        "id": "6CYH4-Oxkos5",
        "outputId": "200b019f-2159-4afb-cb6c-878af4fd44c3"
      },
      "outputs": [
        {
          "metadata": {
            "tags": null
          },
          "name": "stdout",
          "output_type": "stream",
          "text": [
            "Downloading https://www.cs.toronto.edu/~kriz/cifar-100-python.tar.gz to ./cifar-100-python.tar.gz\n"
          ]
        },
        {
          "data": {
            "application/vnd.jupyter.widget-view+json": {
              "model_id": "d0137071684b4db39c9b9c34d3486a43",
              "version_major": 2,
              "version_minor": 0
            },
            "text/plain": [
              "  0%|          | 0/169001437 [00:00<?, ?it/s]"
            ]
          },
          "metadata": {},
          "output_type": "display_data"
        },
        {
          "metadata": {
            "tags": null
          },
          "name": "stdout",
          "output_type": "stream",
          "text": [
            "Extracting ./cifar-100-python.tar.gz to ./\n",
            "Files already downloaded and verified\n",
            "Files already downloaded and verified\n"
          ]
        }
      ],
      "source": [
        "import pandas as pd\n",
        "import os\n",
        "import torch\n",
        "import time\n",
        "import torchvision\n",
        "import torch.nn as nn\n",
        "import numpy as np\n",
        "import torch.nn.functional as F\n",
        "from torchvision.datasets.utils import download_url\n",
        "from torchvision.datasets import ImageFolder\n",
        "from torch.utils.data import DataLoader\n",
        "import torchvision.transforms as tt\n",
        "from torch.utils.data import random_split\n",
        "from torchvision.utils import make_grid\n",
        "import torchvision.models as models\n",
        "import matplotlib.pyplot as plt\n",
        "from sklearn.metrics import *\n",
        "#import ttach as tta\n",
        "#tta_model = tta.ClassificationTTAWrapper(model, tta.aliases.five_crop_transform())\n",
        "from pytorch_toolbelt.inference import tta\n",
        "\n",
        "##HYPER-PARAM\n",
        "batch_size = 400\n",
        "epochs = 120\n",
        "max_lr = 0.001\n",
        "grad_clip = 0.01\n",
        "weight_decay =0.001\n",
        "opt_func = torch.optim.Adam\n",
        "\n",
        "##DOWNLOAD dataset\n",
        "train_data = torchvision.datasets.CIFAR100('./', train=True, download=True)\n",
        "# Stick all the images together to form a 1600000 X 32 X 3 array\n",
        "x = np.concatenate([np.asarray(train_data[i][0]) for i in range(len(train_data))])\n",
        "# calculate the mean and std along the (0, 1) axes\n",
        "mean = np.mean(x, axis=(0, 1))/255\n",
        "std = np.std(x, axis=(0, 1))/255\n",
        "# the the mean and std\n",
        "mean=mean.tolist()\n",
        "std=std.tolist()\n",
        "\n",
        "##########随机遮挡：\n",
        "class Cutout(object):\n",
        "    \"\"\"Randomly mask out one or more patches from an image.\n",
        "    Args:\n",
        "        n_holes (int): Number of patches to cut out of each image.\n",
        "        length (int): The length (in pixels) of each square patch.\n",
        "    \"\"\"\n",
        "    def __init__(self, n_holes, length):\n",
        "        self.n_holes = n_holes\n",
        "        self.length = length\n",
        "\n",
        "    def __call__(self, img):\n",
        "        \"\"\"\n",
        "        Args:\n",
        "            img (Tensor): Tensor image of size (C, H, W).\n",
        "        Returns:\n",
        "            Tensor: Image with n_holes of dimension length x length cut out of it.\n",
        "        \"\"\"\n",
        "        h = img.size(1)\n",
        "        w = img.size(2)\n",
        "\n",
        "        mask = np.ones((h, w), np.float32)\n",
        "\n",
        "        for n in range(self.n_holes):\n",
        "        \t# (x,y)表示方形补丁的中心位置\n",
        "            y = np.random.randint(h)\n",
        "            x = np.random.randint(w)\n",
        "\n",
        "            y1 = np.clip(y - self.length // 2, 0, h)\n",
        "            y2 = np.clip(y + self.length // 2, 0, h)\n",
        "            x1 = np.clip(x - self.length // 2, 0, w)\n",
        "            x2 = np.clip(x + self.length // 2, 0, w)\n",
        "\n",
        "            mask[y1: y2, x1: x2] = 0.\n",
        "\n",
        "        mask = torch.from_numpy(mask)\n",
        "        mask = mask.expand_as(img)\n",
        "        img = img * mask\n",
        "\n",
        "        return img\n",
        "\n",
        "##TRANSFORM\n",
        "transform_train = tt.Compose([tt.RandomCrop(32, padding=4,padding_mode='reflect'), \n",
        "                         tt.RandomHorizontalFlip(), \n",
        "                         tt.ToTensor(), \n",
        "                         tt.Normalize(mean,std,inplace=True),\n",
        "                         Cutout(n_holes=1, length=16)])\n",
        "transform_test = tt.Compose([tt.ToTensor(), tt.Normalize(mean,std)])                        \n",
        "\n",
        "##DATASET and DATALOADER\n",
        "trainset = torchvision.datasets.CIFAR100(\"./\",\n",
        "                                         train=True,\n",
        "                                         download=True,\n",
        "                                         transform=transform_train)\n",
        "trainloader = torch.utils.data.DataLoader(\n",
        "    trainset, batch_size, shuffle=True, num_workers=2,pin_memory=True)\n",
        "\n",
        "testset = torchvision.datasets.CIFAR100(\"./\",\n",
        "                                        train=False,\n",
        "                                        download=True,\n",
        "                                        transform=transform_test)\n",
        "testloader = torch.utils.data.DataLoader(\n",
        "    testset, batch_size*2,pin_memory=True, num_workers=2)\n",
        "\n",
        "#LOADER\n",
        "device = get_default_device()\n",
        "trainloader = DeviceDataLoader(trainloader, device)\n",
        "testloader = DeviceDataLoader(testloader, device)"
      ]
    },
    {
      "cell_type": "code",
      "execution_count": 10,
      "metadata": {
        "id": "jzrXsUuU9WTi"
      },
      "outputs": [],
      "source": [
        "##TRAINING SETUP\n",
        "def accuracy(outputs, labels):\n",
        "    _, preds = torch.max(outputs, dim=1)\n",
        "    return torch.tensor(torch.sum(preds == labels).item() / len(preds))\n",
        "\n",
        "class ImageClassificationBase(nn.Module):\n",
        "    def training_step(self, batch):\n",
        "        images, labels = batch \n",
        "        out = self(images)                  # Generate predictions\n",
        "        loss = F.cross_entropy(out, labels) # Calculate loss\n",
        "        return loss\n",
        "    \n",
        "    def validation_step(self, batch):\n",
        "        images, labels = batch \n",
        "        out = self(images)                    # Generate predictions\n",
        "        loss = F.cross_entropy(out, labels)   # Calculate loss\n",
        "        acc = accuracy(out, labels)           # Calculate accuracy\n",
        "        return {'val_loss': loss.detach(), 'val_acc': acc}\n",
        "        \n",
        "    def validation_epoch_end(self, outputs):\n",
        "        batch_losses = [x['val_loss'] for x in outputs]\n",
        "        epoch_loss = torch.stack(batch_losses).mean()   # Combine losses\n",
        "        batch_accs = [x['val_acc'] for x in outputs]\n",
        "        epoch_acc = torch.stack(batch_accs).mean()      # Combine accuracies\n",
        "        return {'val_loss': epoch_loss.item(), 'val_acc': epoch_acc.item()}\n",
        "    \n",
        "    def epoch_end(self, epoch, result):\n",
        "        print(\"Epoch [{}], last_lr: {:.5f}, train_loss: {:.4f}, val_loss: {:.4f}, val_acc: {:.4f}\".format(\n",
        "            epoch, result['lrs'][-1], result['train_loss'], result['val_loss'], result['val_acc']))\n"
      ]
    },
    {
      "cell_type": "code",
      "execution_count": 11,
      "metadata": {
        "id": "avhK58449fA5"
      },
      "outputs": [],
      "source": [
        "#NET\n",
        "def conv_block(in_channels, out_channels, pool=False):\n",
        "    layers = [nn.Conv2d(in_channels, out_channels, kernel_size=3, padding=1), \n",
        "              nn.BatchNorm2d(out_channels), \n",
        "              nn.ReLU(inplace=True)]\n",
        "    if pool: layers.append(nn.MaxPool2d(2))\n",
        "    return nn.Sequential(*layers)\n",
        "\n",
        "class ResNet9(ImageClassificationBase):\n",
        "    def __init__(self, in_channels, num_classes):\n",
        "        super().__init__()\n",
        "        \n",
        "        self.conv1 = conv_block(in_channels, 64)\n",
        "        self.conv2 = conv_block(64, 128, pool=True) \n",
        "        self.res1 = nn.Sequential(conv_block(128, 128), conv_block(128, 128)) \n",
        "        \n",
        "        self.conv3 = conv_block(128, 256, pool=True)\n",
        "        self.conv4 = conv_block(256, 512, pool=True) \n",
        "        self.res2 = nn.Sequential(conv_block(512, 512), conv_block(512, 512)) \n",
        "        self.conv5 = conv_block(512, 1028, pool=True) \n",
        "        self.res3 = nn.Sequential(conv_block(1028, 1028), conv_block(1028, 1028))  \n",
        "        \n",
        "        self.classifier = nn.Sequential(nn.MaxPool2d(2), # 1028 x 1 x 1\n",
        "                                        nn.Flatten(), # 1028 \n",
        "                                        nn.Linear(1028, num_classes)) # 1028 -> 100\n",
        "        \n",
        "    def forward(self, xb):\n",
        "        out = self.conv1(xb)\n",
        "        out = self.conv2(out)\n",
        "        out = self.res1(out) + out\n",
        "        out = self.conv3(out)\n",
        "        out = self.conv4(out)\n",
        "        out = self.res2(out) + out\n",
        "        out = self.conv5(out)\n",
        "        out = self.res3(out) + out\n",
        "        out = self.classifier(out)\n",
        "        return out\n",
        "\n",
        "model = to_device(ResNet9(3, 100), device)\n"
      ]
    },
    {
      "cell_type": "code",
      "source": [
        "########mixup:\n",
        "alpha = 1.0  # 默认设置为1\n",
        "criterion = nn.CrossEntropyLoss()\n",
        "for (inputs, labels) in trainloader:\n",
        "  lam = np.random.beta(alpha, alpha)\n",
        "  index = torch.randperm(inputs.size(0))\n",
        "  images_a, images_b = inputs, inputs[index]\n",
        "  labels_a, labels_b = labels, labels[index]\n",
        "  mixed_images = lam * images_a + (1 - lam) * images_b\n",
        "  outputs = model(mixed_images)\n",
        "  _, preds = torch.max(outputs, 1)\n",
        "  loss = lam * criterion(outputs, labels_a) + (1 - lam) * criterion(outputs, labels_b)"
      ],
      "metadata": {
        "id": "CSBq_Iks_xzF"
      },
      "execution_count": 12,
      "outputs": []
    },
    {
      "cell_type": "code",
      "execution_count": 13,
      "metadata": {
        "id": "ERD4Jiss8_RM",
        "colab": {
          "base_uri": "https://localhost:8080/"
        },
        "outputId": "5c2ea9de-fbfd-4337-9f34-6cab4db31e06"
      },
      "outputs": [
        {
          "data": {
            "text/plain": [
              "ResNet9(\n",
              "  (conv1): Sequential(\n",
              "    (0): Conv2d(3, 64, kernel_size=(3, 3), stride=(1, 1), padding=(1, 1))\n",
              "    (1): BatchNorm2d(64, eps=1e-05, momentum=0.1, affine=True, track_running_stats=True)\n",
              "    (2): ReLU(inplace=True)\n",
              "  )\n",
              "  (conv2): Sequential(\n",
              "    (0): Conv2d(64, 128, kernel_size=(3, 3), stride=(1, 1), padding=(1, 1))\n",
              "    (1): BatchNorm2d(128, eps=1e-05, momentum=0.1, affine=True, track_running_stats=True)\n",
              "    (2): ReLU(inplace=True)\n",
              "    (3): MaxPool2d(kernel_size=2, stride=2, padding=0, dilation=1, ceil_mode=False)\n",
              "  )\n",
              "  (res1): Sequential(\n",
              "    (0): Sequential(\n",
              "      (0): Conv2d(128, 128, kernel_size=(3, 3), stride=(1, 1), padding=(1, 1))\n",
              "      (1): BatchNorm2d(128, eps=1e-05, momentum=0.1, affine=True, track_running_stats=True)\n",
              "      (2): ReLU(inplace=True)\n",
              "    )\n",
              "    (1): Sequential(\n",
              "      (0): Conv2d(128, 128, kernel_size=(3, 3), stride=(1, 1), padding=(1, 1))\n",
              "      (1): BatchNorm2d(128, eps=1e-05, momentum=0.1, affine=True, track_running_stats=True)\n",
              "      (2): ReLU(inplace=True)\n",
              "    )\n",
              "  )\n",
              "  (conv3): Sequential(\n",
              "    (0): Conv2d(128, 256, kernel_size=(3, 3), stride=(1, 1), padding=(1, 1))\n",
              "    (1): BatchNorm2d(256, eps=1e-05, momentum=0.1, affine=True, track_running_stats=True)\n",
              "    (2): ReLU(inplace=True)\n",
              "    (3): MaxPool2d(kernel_size=2, stride=2, padding=0, dilation=1, ceil_mode=False)\n",
              "  )\n",
              "  (conv4): Sequential(\n",
              "    (0): Conv2d(256, 512, kernel_size=(3, 3), stride=(1, 1), padding=(1, 1))\n",
              "    (1): BatchNorm2d(512, eps=1e-05, momentum=0.1, affine=True, track_running_stats=True)\n",
              "    (2): ReLU(inplace=True)\n",
              "    (3): MaxPool2d(kernel_size=2, stride=2, padding=0, dilation=1, ceil_mode=False)\n",
              "  )\n",
              "  (res2): Sequential(\n",
              "    (0): Sequential(\n",
              "      (0): Conv2d(512, 512, kernel_size=(3, 3), stride=(1, 1), padding=(1, 1))\n",
              "      (1): BatchNorm2d(512, eps=1e-05, momentum=0.1, affine=True, track_running_stats=True)\n",
              "      (2): ReLU(inplace=True)\n",
              "    )\n",
              "    (1): Sequential(\n",
              "      (0): Conv2d(512, 512, kernel_size=(3, 3), stride=(1, 1), padding=(1, 1))\n",
              "      (1): BatchNorm2d(512, eps=1e-05, momentum=0.1, affine=True, track_running_stats=True)\n",
              "      (2): ReLU(inplace=True)\n",
              "    )\n",
              "  )\n",
              "  (conv5): Sequential(\n",
              "    (0): Conv2d(512, 1028, kernel_size=(3, 3), stride=(1, 1), padding=(1, 1))\n",
              "    (1): BatchNorm2d(1028, eps=1e-05, momentum=0.1, affine=True, track_running_stats=True)\n",
              "    (2): ReLU(inplace=True)\n",
              "    (3): MaxPool2d(kernel_size=2, stride=2, padding=0, dilation=1, ceil_mode=False)\n",
              "  )\n",
              "  (res3): Sequential(\n",
              "    (0): Sequential(\n",
              "      (0): Conv2d(1028, 1028, kernel_size=(3, 3), stride=(1, 1), padding=(1, 1))\n",
              "      (1): BatchNorm2d(1028, eps=1e-05, momentum=0.1, affine=True, track_running_stats=True)\n",
              "      (2): ReLU(inplace=True)\n",
              "    )\n",
              "    (1): Sequential(\n",
              "      (0): Conv2d(1028, 1028, kernel_size=(3, 3), stride=(1, 1), padding=(1, 1))\n",
              "      (1): BatchNorm2d(1028, eps=1e-05, momentum=0.1, affine=True, track_running_stats=True)\n",
              "      (2): ReLU(inplace=True)\n",
              "    )\n",
              "  )\n",
              "  (classifier): Sequential(\n",
              "    (0): MaxPool2d(kernel_size=2, stride=2, padding=0, dilation=1, ceil_mode=False)\n",
              "    (1): Flatten(start_dim=1, end_dim=-1)\n",
              "    (2): Linear(in_features=1028, out_features=100, bias=True)\n",
              "  )\n",
              ")"
            ]
          },
          "execution_count": 13,
          "metadata": {},
          "output_type": "execute_result"
        }
      ],
      "source": [
        "#SEE YOUR MODEL\n",
        "model"
      ]
    },
    {
      "cell_type": "code",
      "execution_count": 14,
      "metadata": {
        "id": "gx59G_Ve9nqF"
      },
      "outputs": [],
      "source": [
        "#Training Setup\n",
        "@torch.no_grad()\n",
        "###############################网络剪枝0.05\n",
        "def prune_network(model, pruning_percent):\n",
        "    for name, module in model.named_modules():\n",
        "        if isinstance(module, nn.Conv2d) or isinstance(module, nn.Linear):\n",
        "            prune.random_unstructured(module, name=\"weight\", amount=pruning_percent)\n",
        "\n",
        "def evaluate(model, test_loader):\n",
        "    model.eval()\n",
        "    outputs = [model.validation_step(batch) for batch in test_loader]\n",
        "    return model.validation_epoch_end(outputs)\n",
        "\n",
        "def get_lr(optimizer):\n",
        "    for param_group in optimizer.param_groups:\n",
        "        return param_group['lr']\n",
        "\n",
        "def fit_one_cycle(epochs, max_lr, model, train_loader, test_loader, \n",
        "                  weight_decay=0, grad_clip=None, opt_func=torch.optim.SGD):\n",
        "    torch.cuda.empty_cache()\n",
        "    history = []\n",
        "    \n",
        "    # Set up cutom optimizer with weight decay\n",
        "    optimizer = opt_func(model.parameters(), max_lr, weight_decay=weight_decay)\n",
        "    # Set up one-cycle learning rate scheduler\n",
        "    sched = torch.optim.lr_scheduler.OneCycleLR(optimizer, max_lr, epochs=epochs, \n",
        "                                                steps_per_epoch=len(train_loader))\n",
        "    \n",
        "    for epoch in range(epochs):\n",
        "        # Training Phase \n",
        "        #pruning_percent = 0.2\n",
        "        #model.prune_network()\n",
        "        model.train()\n",
        "        train_losses = []\n",
        "        lrs = []\n",
        "        for batch in train_loader:\n",
        "            loss = model.training_step(batch)\n",
        "            train_losses.append(loss)\n",
        "            loss.backward()\n",
        "            \n",
        "            # Gradient clipping\n",
        "            if grad_clip: \n",
        "                nn.utils.clip_grad_value_(model.parameters(), grad_clip)\n",
        "            \n",
        "            optimizer.step()\n",
        "            optimizer.zero_grad()\n",
        "            \n",
        "            # Record & update learning rate\n",
        "            lrs.append(get_lr(optimizer))\n",
        "            sched.step()\n",
        "        \n",
        "        # Validation phase\n",
        "        result = evaluate(model, test_loader)\n",
        "        result['train_loss'] = torch.stack(train_losses).mean().item()\n",
        "        result['lrs'] = lrs\n",
        "        model.epoch_end(epoch, result)\n",
        "        history.append(result)\n",
        "    return history"
      ]
    },
    {
      "cell_type": "code",
      "execution_count": null,
      "metadata": {
        "id": "NDa2vTlL9rRB",
        "colab": {
          "base_uri": "https://localhost:8080/"
        },
        "outputId": "245940ef-acef-4199-93cc-4817a62be08e"
      },
      "outputs": [
        {
          "output_type": "stream",
          "name": "stdout",
          "text": [
            "Epoch [0], last_lr: 0.00007, train_loss: 3.8177, val_loss: 3.2406, val_acc: 0.2264\n",
            "Epoch [1], last_lr: 0.00015, train_loss: 3.2003, val_loss: 2.9765, val_acc: 0.2625\n",
            "Epoch [2], last_lr: 0.00028, train_loss: 2.8919, val_loss: 2.9125, val_acc: 0.2817\n",
            "Epoch [3], last_lr: 0.00044, train_loss: 2.6820, val_loss: 2.5380, val_acc: 0.3466\n",
            "Epoch [4], last_lr: 0.00060, train_loss: 2.5100, val_loss: 2.5245, val_acc: 0.3715\n",
            "Epoch [5], last_lr: 0.00076, train_loss: 2.3258, val_loss: 2.5374, val_acc: 0.3681\n",
            "Epoch [6], last_lr: 0.00089, train_loss: 2.1940, val_loss: 2.1147, val_acc: 0.4418\n",
            "Epoch [7], last_lr: 0.00097, train_loss: 2.0685, val_loss: 1.8843, val_acc: 0.4972\n",
            "Epoch [8], last_lr: 0.00100, train_loss: 1.9370, val_loss: 2.1549, val_acc: 0.4525\n",
            "Epoch [9], last_lr: 0.00099, train_loss: 1.8157, val_loss: 2.1249, val_acc: 0.4470\n",
            "Epoch [10], last_lr: 0.00098, train_loss: 1.7272, val_loss: 2.3838, val_acc: 0.4136\n",
            "Epoch [11], last_lr: 0.00095, train_loss: 1.6332, val_loss: 1.6594, val_acc: 0.5371\n",
            "Epoch [12], last_lr: 0.00091, train_loss: 1.5514, val_loss: 1.7036, val_acc: 0.5317\n",
            "Epoch [13], last_lr: 0.00087, train_loss: 1.4943, val_loss: 1.6420, val_acc: 0.5463\n",
            "Epoch [14], last_lr: 0.00081, train_loss: 1.4208, val_loss: 1.5004, val_acc: 0.5886\n",
            "Epoch [15], last_lr: 0.00075, train_loss: 1.3513, val_loss: 1.6580, val_acc: 0.5531\n",
            "Epoch [16], last_lr: 0.00068, train_loss: 1.2849, val_loss: 1.6007, val_acc: 0.5710\n",
            "Epoch [17], last_lr: 0.00061, train_loss: 1.2183, val_loss: 1.4407, val_acc: 0.5978\n",
            "Epoch [18], last_lr: 0.00054, train_loss: 1.1479, val_loss: 1.3153, val_acc: 0.6327\n",
            "Epoch [19], last_lr: 0.00046, train_loss: 1.0788, val_loss: 1.2489, val_acc: 0.6508\n",
            "Epoch [20], last_lr: 0.00039, train_loss: 0.9920, val_loss: 1.1409, val_acc: 0.6702\n",
            "Epoch [21], last_lr: 0.00032, train_loss: 0.9137, val_loss: 1.0944, val_acc: 0.6849\n",
            "Epoch [22], last_lr: 0.00025, train_loss: 0.8316, val_loss: 1.1529, val_acc: 0.6748\n",
            "Epoch [23], last_lr: 0.00019, train_loss: 0.7247, val_loss: 0.9894, val_acc: 0.7172\n",
            "Epoch [24], last_lr: 0.00013, train_loss: 0.6442, val_loss: 0.9630, val_acc: 0.7227\n",
            "Epoch [25], last_lr: 0.00009, train_loss: 0.5585, val_loss: 0.9362, val_acc: 0.7381\n",
            "Epoch [26], last_lr: 0.00005, train_loss: 0.4873, val_loss: 0.9049, val_acc: 0.7408\n",
            "Epoch [27], last_lr: 0.00002, train_loss: 0.4333, val_loss: 0.8962, val_acc: 0.7456\n",
            "Epoch [28], last_lr: 0.00001, train_loss: 0.3957, val_loss: 0.8892, val_acc: 0.7499\n",
            "Epoch [29], last_lr: 0.00000, train_loss: 0.3784, val_loss: 0.8905, val_acc: 0.7488\n",
            "Epoch [0], last_lr: 0.00001, train_loss: 0.3781, val_loss: 0.8916, val_acc: 0.7492\n",
            "Epoch [1], last_lr: 0.00002, train_loss: 0.3756, val_loss: 0.8934, val_acc: 0.7493\n",
            "Epoch [2], last_lr: 0.00003, train_loss: 0.3716, val_loss: 0.9039, val_acc: 0.7454\n",
            "Epoch [3], last_lr: 0.00004, train_loss: 0.3743, val_loss: 0.9167, val_acc: 0.7461\n",
            "Epoch [4], last_lr: 0.00006, train_loss: 0.3828, val_loss: 0.9386, val_acc: 0.7352\n",
            "Epoch [5], last_lr: 0.00008, train_loss: 0.3838, val_loss: 0.9679, val_acc: 0.7308\n",
            "Epoch [6], last_lr: 0.00009, train_loss: 0.3945, val_loss: 0.9919, val_acc: 0.7325\n",
            "Epoch [7], last_lr: 0.00010, train_loss: 0.3902, val_loss: 1.0001, val_acc: 0.7285\n",
            "Epoch [8], last_lr: 0.00010, train_loss: 0.3881, val_loss: 0.9942, val_acc: 0.7287\n",
            "Epoch [9], last_lr: 0.00010, train_loss: 0.3846, val_loss: 1.0101, val_acc: 0.7264\n",
            "Epoch [10], last_lr: 0.00010, train_loss: 0.3608, val_loss: 1.0113, val_acc: 0.7280\n",
            "Epoch [11], last_lr: 0.00010, train_loss: 0.3452, val_loss: 1.0109, val_acc: 0.7284\n",
            "Epoch [12], last_lr: 0.00009, train_loss: 0.3333, val_loss: 1.0305, val_acc: 0.7292\n",
            "Epoch [13], last_lr: 0.00009, train_loss: 0.3107, val_loss: 1.0391, val_acc: 0.7292\n",
            "Epoch [14], last_lr: 0.00008, train_loss: 0.3026, val_loss: 1.0155, val_acc: 0.7324\n",
            "Epoch [15], last_lr: 0.00008, train_loss: 0.2722, val_loss: 1.0281, val_acc: 0.7290\n",
            "Epoch [16], last_lr: 0.00007, train_loss: 0.2622, val_loss: 1.0142, val_acc: 0.7327\n",
            "Epoch [17], last_lr: 0.00006, train_loss: 0.2412, val_loss: 1.0067, val_acc: 0.7357\n",
            "Epoch [18], last_lr: 0.00005, train_loss: 0.2205, val_loss: 1.0211, val_acc: 0.7359\n",
            "Epoch [19], last_lr: 0.00005, train_loss: 0.2064, val_loss: 1.0039, val_acc: 0.7407\n",
            "Epoch [20], last_lr: 0.00004, train_loss: 0.1928, val_loss: 0.9890, val_acc: 0.7436\n",
            "Epoch [21], last_lr: 0.00003, train_loss: 0.1791, val_loss: 0.9952, val_acc: 0.7449\n",
            "Epoch [22], last_lr: 0.00003, train_loss: 0.1672, val_loss: 0.9933, val_acc: 0.7464\n",
            "Epoch [23], last_lr: 0.00002, train_loss: 0.1518, val_loss: 0.9864, val_acc: 0.7459\n",
            "Epoch [24], last_lr: 0.00001, train_loss: 0.1448, val_loss: 0.9898, val_acc: 0.7482\n",
            "Epoch [25], last_lr: 0.00001, train_loss: 0.1368, val_loss: 0.9885, val_acc: 0.7465\n",
            "Epoch [26], last_lr: 0.00000, train_loss: 0.1306, val_loss: 0.9851, val_acc: 0.7491\n",
            "Epoch [27], last_lr: 0.00000, train_loss: 0.1279, val_loss: 0.9814, val_acc: 0.7488\n",
            "Epoch [28], last_lr: 0.00000, train_loss: 0.1279, val_loss: 0.9824, val_acc: 0.7495\n",
            "Epoch [29], last_lr: 0.00000, train_loss: 0.1266, val_loss: 0.9802, val_acc: 0.7509\n",
            "Epoch [0], last_lr: 0.00000, train_loss: 0.1240, val_loss: 0.9817, val_acc: 0.7483\n",
            "Epoch [1], last_lr: 0.00000, train_loss: 0.1223, val_loss: 0.9817, val_acc: 0.7505\n",
            "Epoch [2], last_lr: 0.00000, train_loss: 0.1236, val_loss: 0.9815, val_acc: 0.7490\n",
            "Epoch [3], last_lr: 0.00000, train_loss: 0.1249, val_loss: 0.9818, val_acc: 0.7501\n",
            "Epoch [4], last_lr: 0.00001, train_loss: 0.1244, val_loss: 0.9852, val_acc: 0.7489\n",
            "Epoch [5], last_lr: 0.00001, train_loss: 0.1245, val_loss: 0.9894, val_acc: 0.7493\n",
            "Epoch [6], last_lr: 0.00001, train_loss: 0.1222, val_loss: 0.9835, val_acc: 0.7476\n",
            "Epoch [7], last_lr: 0.00001, train_loss: 0.1214, val_loss: 0.9894, val_acc: 0.7493\n",
            "Epoch [8], last_lr: 0.00001, train_loss: 0.1214, val_loss: 0.9855, val_acc: 0.7490\n",
            "Epoch [9], last_lr: 0.00001, train_loss: 0.1221, val_loss: 0.9919, val_acc: 0.7480\n",
            "Epoch [10], last_lr: 0.00001, train_loss: 0.1151, val_loss: 0.9906, val_acc: 0.7487\n",
            "Epoch [11], last_lr: 0.00001, train_loss: 0.1141, val_loss: 0.9895, val_acc: 0.7485\n",
            "Epoch [12], last_lr: 0.00001, train_loss: 0.1119, val_loss: 0.9910, val_acc: 0.7489\n",
            "Epoch [13], last_lr: 0.00001, train_loss: 0.1106, val_loss: 0.9948, val_acc: 0.7481\n",
            "Epoch [14], last_lr: 0.00001, train_loss: 0.1124, val_loss: 0.9927, val_acc: 0.7478\n",
            "Epoch [15], last_lr: 0.00001, train_loss: 0.1099, val_loss: 0.9935, val_acc: 0.7498\n",
            "Epoch [16], last_lr: 0.00001, train_loss: 0.1109, val_loss: 0.9966, val_acc: 0.7483\n",
            "Epoch [17], last_lr: 0.00001, train_loss: 0.1061, val_loss: 0.9954, val_acc: 0.7498\n",
            "Epoch [18], last_lr: 0.00001, train_loss: 0.1022, val_loss: 0.9937, val_acc: 0.7485\n",
            "Epoch [19], last_lr: 0.00000, train_loss: 0.0996, val_loss: 0.9943, val_acc: 0.7498\n",
            "Epoch [20], last_lr: 0.00000, train_loss: 0.0999, val_loss: 0.9920, val_acc: 0.7487\n",
            "Epoch [21], last_lr: 0.00000, train_loss: 0.1011, val_loss: 0.9929, val_acc: 0.7463\n",
            "Epoch [22], last_lr: 0.00000, train_loss: 0.0986, val_loss: 0.9934, val_acc: 0.7488\n",
            "Epoch [23], last_lr: 0.00000, train_loss: 0.1004, val_loss: 0.9945, val_acc: 0.7476\n",
            "Epoch [24], last_lr: 0.00000, train_loss: 0.0982, val_loss: 0.9934, val_acc: 0.7480\n",
            "Epoch [25], last_lr: 0.00000, train_loss: 0.0947, val_loss: 0.9958, val_acc: 0.7476\n",
            "Epoch [26], last_lr: 0.00000, train_loss: 0.0970, val_loss: 0.9946, val_acc: 0.7475\n",
            "Epoch [27], last_lr: 0.00000, train_loss: 0.0997, val_loss: 0.9929, val_acc: 0.7477\n",
            "Epoch [28], last_lr: 0.00000, train_loss: 0.0985, val_loss: 0.9935, val_acc: 0.7474\n",
            "Epoch [29], last_lr: 0.00000, train_loss: 0.0983, val_loss: 0.9937, val_acc: 0.7476\n",
            "Epoch [0], last_lr: 0.00000, train_loss: 0.0966, val_loss: 0.9935, val_acc: 0.7481\n",
            "Epoch [1], last_lr: 0.00000, train_loss: 0.0984, val_loss: 0.9946, val_acc: 0.7471\n",
            "Epoch [2], last_lr: 0.00000, train_loss: 0.0984, val_loss: 0.9928, val_acc: 0.7484\n",
            "Epoch [3], last_lr: 0.00000, train_loss: 0.0980, val_loss: 0.9922, val_acc: 0.7490\n",
            "Epoch [4], last_lr: 0.00001, train_loss: 0.0996, val_loss: 0.9949, val_acc: 0.7460\n",
            "Epoch [5], last_lr: 0.00001, train_loss: 0.0988, val_loss: 0.9927, val_acc: 0.7498\n",
            "Epoch [6], last_lr: 0.00001, train_loss: 0.0972, val_loss: 0.9993, val_acc: 0.7486\n",
            "Epoch [7], last_lr: 0.00001, train_loss: 0.1007, val_loss: 1.0002, val_acc: 0.7472\n",
            "Epoch [8], last_lr: 0.00001, train_loss: 0.0991, val_loss: 0.9997, val_acc: 0.7467\n",
            "Epoch [9], last_lr: 0.00001, train_loss: 0.0995, val_loss: 0.9993, val_acc: 0.7477\n",
            "Epoch [10], last_lr: 0.00001, train_loss: 0.0993, val_loss: 1.0002, val_acc: 0.7508\n",
            "Epoch [11], last_lr: 0.00001, train_loss: 0.0970, val_loss: 1.0044, val_acc: 0.7479\n",
            "Epoch [12], last_lr: 0.00001, train_loss: 0.0968, val_loss: 1.0040, val_acc: 0.7487\n",
            "Epoch [13], last_lr: 0.00001, train_loss: 0.0966, val_loss: 1.0017, val_acc: 0.7501\n",
            "Epoch [14], last_lr: 0.00001, train_loss: 0.0955, val_loss: 1.0018, val_acc: 0.7490\n",
            "Epoch [15], last_lr: 0.00001, train_loss: 0.0911, val_loss: 0.9997, val_acc: 0.7503\n",
            "Epoch [16], last_lr: 0.00001, train_loss: 0.0899, val_loss: 0.9974, val_acc: 0.7523\n",
            "Epoch [17], last_lr: 0.00001, train_loss: 0.0892, val_loss: 0.9997, val_acc: 0.7512\n",
            "Epoch [18], last_lr: 0.00001, train_loss: 0.0887, val_loss: 1.0008, val_acc: 0.7490\n",
            "Epoch [19], last_lr: 0.00000, train_loss: 0.0879, val_loss: 1.0017, val_acc: 0.7482\n",
            "Epoch [20], last_lr: 0.00000, train_loss: 0.0866, val_loss: 0.9997, val_acc: 0.7513\n",
            "Epoch [21], last_lr: 0.00000, train_loss: 0.0852, val_loss: 0.9985, val_acc: 0.7499\n",
            "Epoch [22], last_lr: 0.00000, train_loss: 0.0835, val_loss: 0.9951, val_acc: 0.7506\n",
            "Epoch [23], last_lr: 0.00000, train_loss: 0.0841, val_loss: 0.9972, val_acc: 0.7510\n",
            "Epoch [24], last_lr: 0.00000, train_loss: 0.0826, val_loss: 0.9959, val_acc: 0.7517\n",
            "Epoch [25], last_lr: 0.00000, train_loss: 0.0804, val_loss: 0.9949, val_acc: 0.7507\n",
            "Epoch [26], last_lr: 0.00000, train_loss: 0.0828, val_loss: 0.9941, val_acc: 0.7526\n",
            "Epoch [27], last_lr: 0.00000, train_loss: 0.0826, val_loss: 0.9945, val_acc: 0.7534\n",
            "Epoch [28], last_lr: 0.00000, train_loss: 0.0834, val_loss: 0.9962, val_acc: 0.7511\n"
          ]
        }
      ],
      "source": [
        "#Training(Using Multi_LR)\n",
        "history = [evaluate(model, testloader)] ## Initial evaluation\n",
        "# Fitting the first 1/4 \n",
        "current_time=time.time()\n",
        "history += fit_one_cycle(int(epochs/4), max_lr, model, trainloader, testloader, \n",
        "                             grad_clip=grad_clip, \n",
        "                             weight_decay=weight_decay, \n",
        "                             opt_func=opt_func)\n",
        "# Fitting the first 2/4 epochs\n",
        "history += fit_one_cycle(int(epochs/4), max_lr/10, model, trainloader, testloader, \n",
        "                             grad_clip=grad_clip, \n",
        "                             weight_decay=weight_decay, \n",
        "                             opt_func=opt_func)\n",
        "# Fitting the first 3/4 \n",
        "history += fit_one_cycle(int(epochs/4), max_lr/100, model, trainloader, testloader, \n",
        "                             grad_clip=grad_clip, \n",
        "                             weight_decay=weight_decay, \n",
        "                             opt_func=opt_func)\n",
        "# Fitting the first 4/4 epochs\n",
        "history += fit_one_cycle(int(epochs/4), max_lr/100, model, trainloader, testloader, \n",
        "                             grad_clip=grad_clip, \n",
        "                             weight_decay=weight_decay, \n",
        "                             opt_func=opt_func)\n",
        "# Print training time\n",
        "time_train = time.time() - current_time\n",
        "print('Training time: {:.2f} s'.format(time_train))"
      ]
    },
    {
      "cell_type": "markdown",
      "metadata": {
        "id": "Q-gZi1G8iuRC"
      },
      "source": [
        "# Fitting the first 2/4 epochs\n",
        "history += fit_one_cycle(int(epochs/4), max_lr/10, model, trainloader, testloader, \n",
        "                             grad_clip=grad_clip, \n",
        "                             weight_decay=weight_decay, \n",
        "                             opt_func=opt_func)\n",
        "# Fitting the first 3/4 \n",
        "history += fit_one_cycle(int(epochs/4), max_lr/100, model, trainloader, testloader, \n",
        "                             grad_clip=grad_clip, \n",
        "                             weight_decay=weight_decay, \n",
        "                             opt_func=opt_func)\n",
        "# Fitting the first 4/4 epochs\n",
        "history += fit_one_cycle(int(epochs/4), max_lr/100, model, trainloader, testloader, \n",
        "                             grad_clip=grad_clip, \n",
        "                             weight_decay=weight_decay, \n",
        "                             opt_func=opt_func)"
      ]
    },
    {
      "cell_type": "code",
      "execution_count": null,
      "metadata": {
        "id": "UgXS_hUU_046"
      },
      "outputs": [],
      "source": [
        "# Collect training time and result\n",
        "current_time = time.time()\n",
        "result = evaluate(model, testloader)\n",
        "result\n",
        "time_inference = time.time() - current_time\n",
        "print('Inference time: {:.2f} s'.format(time_inference))\n"
      ]
    },
    {
      "cell_type": "code",
      "execution_count": null,
      "metadata": {
        "id": "SS8bTaid-Tlk"
      },
      "outputs": [],
      "source": [
        "# Saving the model to h5 file\n",
        "torch.save(model.state_dict(), 'group22_pretrained_model.h5')\n",
        "# Generate testing accuracy, predicted label, confusion matrix, and table for classification report\n",
        "def test_label_predictions(model, device, test_loader):\n",
        "    model.eval()\n",
        "    actuals = []\n",
        "    predictions = []\n",
        "    with torch.no_grad():\n",
        "        for data, target in test_loader:\n",
        "            data, target = data.to(device), target.to(device)\n",
        "            output = model(data)\n",
        "            prediction = output.argmax(dim=1, keepdim=True)\n",
        "            actuals.extend(target.view_as(prediction))\n",
        "            predictions.extend(prediction)\n",
        "    return [i.item() for i in actuals], [i.item() for i in predictions]\n",
        "\n",
        "y_test, y_pred = test_label_predictions(model, device, testloader)\n",
        "cm=confusion_matrix(y_test, y_pred)\n",
        "cr=classification_report(y_test, y_pred)\n",
        "fs=f1_score(y_test,y_pred,average='weighted')\n",
        "rs=recall_score(y_test, y_pred,average='weighted')\n",
        "accuracy=accuracy_score(y_test, y_pred)\n",
        "print('Confusion matrix:')\n",
        "print(cm)\n",
        "print(cr)\n",
        "print('F1 score: %f' % fs)\n",
        "print('Recall score: %f' % rs)\n",
        "print('Accuracy score: %f' % accuracy)"
      ]
    },
    {
      "cell_type": "code",
      "execution_count": null,
      "metadata": {
        "id": "GrkdAXsr_YN2"
      },
      "outputs": [],
      "source": [
        "#MODEl NET\n",
        "model"
      ]
    },
    {
      "cell_type": "code",
      "execution_count": 26,
      "metadata": {
        "id": "4tKzKYrO_gzV",
        "colab": {
          "base_uri": "https://localhost:8080/"
        },
        "outputId": "98f57d30-4b89-4e06-82c2-e41565cbd7b0"
      },
      "outputs": [
        {
          "output_type": "stream",
          "name": "stdout",
          "text": [
            "Training time: 4667.25 s\n"
          ]
        }
      ],
      "source": [
        "#Train Time\n",
        "print('Training time: {:.2f} s'.format(time_train))"
      ]
    },
    {
      "cell_type": "code",
      "execution_count": null,
      "metadata": {
        "id": "pyZZyHVi_iiY"
      },
      "outputs": [],
      "source": [
        "#Inference Time (Test Time)\n",
        "print('Inference time: {:.2f} s'.format(time_inference))"
      ]
    },
    {
      "cell_type": "code",
      "execution_count": null,
      "metadata": {
        "id": "e8YWSp1GB5bT"
      },
      "outputs": [],
      "source": [
        "!pip install thop"
      ]
    },
    {
      "cell_type": "code",
      "execution_count": 27,
      "metadata": {
        "id": "2eMiKDrk_nG8",
        "colab": {
          "base_uri": "https://localhost:8080/"
        },
        "outputId": "4804a35d-2046-4823-e4a6-4ab1d63734f7"
      },
      "outputs": [
        {
          "output_type": "stream",
          "name": "stdout",
          "text": [
            "[INFO] Register count_convNd() for <class 'torch.nn.modules.conv.Conv2d'>.\n",
            "[INFO] Register count_normalization() for <class 'torch.nn.modules.batchnorm.BatchNorm2d'>.\n",
            "[INFO] Register zero_ops() for <class 'torch.nn.modules.activation.ReLU'>.\n",
            "[INFO] Register zero_ops() for <class 'torch.nn.modules.container.Sequential'>.\n",
            "[INFO] Register zero_ops() for <class 'torch.nn.modules.pooling.MaxPool2d'>.\n",
            "[INFO] Register count_linear() for <class 'torch.nn.modules.linear.Linear'>.\n",
            "532846480.0\n",
            "30441528.0\n"
          ]
        }
      ],
      "source": [
        "#Paramater Size and FLOPS\n",
        "from thop import profile\n",
        " \n",
        "input = torch.randn(1, 3, 32, 32)\n",
        "input = input.to(device)\n",
        "flops, params = profile(model, inputs=(input,))\n",
        "print(flops)\n",
        "print(params)\n"
      ]
    },
    {
      "cell_type": "code",
      "execution_count": 28,
      "metadata": {
        "id": "fevKTcLq_p76",
        "colab": {
          "base_uri": "https://localhost:8080/"
        },
        "outputId": "b89a6ace-9ad4-4d1f-b92c-7bf25518bb3c"
      },
      "outputs": [
        {
          "output_type": "stream",
          "name": "stdout",
          "text": [
            "Accuracy score: 0.750700\n"
          ]
        }
      ],
      "source": [
        "#Accuaray\n",
        "print('Accuracy score: %f' % accuracy)"
      ]
    },
    {
      "cell_type": "code",
      "execution_count": 24,
      "metadata": {
        "id": "xa7bOMB8-a1X"
      },
      "outputs": [],
      "source": [
        "# Plot classification report and save to pdf function\n",
        "def plot_classification(precision, recall, f1_score):\n",
        "    plt.rcParams['font.size'] = 12\n",
        "    plt.rc('axes', linewidth=1.75)\n",
        "    marker_size = 8\n",
        "    figsize = 6\n",
        "    plt.figure(figsize=(1.4 * figsize, figsize))\n",
        "    plt.subplot(3, 1, 1)\n",
        "    plt.plot(precision, 'o', markersize=marker_size)\n",
        "    plt.ylabel('Precision', fontsize=14)\n",
        "    plt.xticks([])\n",
        "    plt.subplot(3, 1, 2)\n",
        "    plt.plot(recall, 'o', markersize=marker_size)\n",
        "    plt.ylabel('Recall', fontsize=14)\n",
        "    plt.xticks([])\n",
        "    plt.subplot(3, 1, 3)\n",
        "    plt.plot(f1_score, 'o', markersize=marker_size)\n",
        "    plt.ylabel('F1-score', fontsize=14)\n",
        "    plt.xlabel('Class', fontsize=14)\n",
        "    plt.subplots_adjust(hspace=0.001)\n",
        "    plt.tight_layout()\n",
        "    plt.savefig(\"result.pdf\")\n",
        "# Plot classification report and save to pdf\n",
        "def plot_confusion_matrix(cm):\n",
        "    plt.figure()\n",
        "    plt.imshow(cm, interpolation='nearest', cmap=plt.get_cmap('Blues'))\n",
        "    plt.colorbar()\n",
        "    plt.ylabel('True label', fontsize=14)\n",
        "    plt.xlabel('Predicted label', fontsize=14)\n",
        "    plt.tight_layout()\n",
        "    plt.savefig(\"confusion_matrix.pdf\")\n",
        "    plt.show()"
      ]
    },
    {
      "cell_type": "code",
      "execution_count": 25,
      "metadata": {
        "id": "0FM-IQXb-0iw",
        "colab": {
          "base_uri": "https://localhost:8080/",
          "height": 861
        },
        "outputId": "5c880998-abd2-4c37-a991-4dd2216c9988"
      },
      "outputs": [
        {
          "metadata": {
            "tags": null
          },
          "name": "stdout",
          "output_type": "stream",
          "text": [
            "[0.89 0.88 0.66 0.56 0.65 0.79 0.79 0.79 0.87 0.86 0.61 0.55 0.81 0.68\n",
            " 0.69 0.78 0.77 0.82 0.66 0.66 0.89 0.91 0.81 0.85 0.87 0.6  0.76 0.65\n",
            " 0.84 0.77 0.66 0.7  0.72 0.68 0.84 0.46 0.82 0.79 0.67 0.89 0.69 0.9\n",
            " 0.68 0.86 0.52 0.71 0.52 0.71 0.92 0.87 0.61 0.8  0.65 0.93 0.89 0.52\n",
            " 0.94 0.84 0.87 0.71 0.9  0.66 0.8  0.73 0.55 0.6  0.77 0.63 0.93 0.82\n",
            " 0.84 0.8  0.46 0.56 0.62 0.89 0.89 0.73 0.67 0.76 0.59 0.73 0.94 0.77\n",
            " 0.71 0.82 0.75 0.89 0.82 0.85 0.85 0.87 0.73 0.6  0.94 0.76 0.65 0.8\n",
            " 0.53 0.77]\n"
          ]
        },
        {
          "data": {
            "image/png": "[encoded data removed]",
            "text/plain": [
              "<Figure size 604.8x432 with 3 Axes>"
            ]
          },
          "metadata": {},
          "output_type": "display_data"
        },
        {
          "data": {
            "image/png": "[encoded data removed]",
            "text/plain": [
              "<Figure size 432x288 with 2 Axes>"
            ]
          },
          "metadata": {},
          "output_type": "display_data"
        }
      ],
      "source": [
        "# Plot and save confusion matrix\n",
        "precision, recall, f1,_= precision_recall_fscore_support(y_test, y_pred)\n",
        "print(recall)\n",
        "plot_classification(precision, recall, f1)\n",
        "\n",
        "# Plot confusion matrix\n",
        "plot_confusion_matrix(cm)"
      ]
    }
  ],
  "metadata": {
    "accelerator": "GPU",
    "colab": {
      "provenance": []
    },
    "gpuClass": "standard",
    "kernelspec": {
      "display_name": "Python 3",
      "name": "python3"
    },
    "language_info": {
      "name": "python"
    },
    "widgets": {
      "application/vnd.jupyter.widget-state+json": {}
    }
  },
  "nbformat": 4,
  "nbformat_minor": 0
}